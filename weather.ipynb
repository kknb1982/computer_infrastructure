{
 "cells": [
  {
   "cell_type": "markdown",
   "id": "82538015-77d5-47a3-8480-5ff31aee8a19",
   "metadata": {},
   "source": [
    "# Computer Infrastructure Task Notebook"
   ]
  },
  {
   "cell_type": "markdown",
   "id": "88b9e687-654b-4937-83ea-7806bc74a37c",
   "metadata": {},
   "source": [
    "## Task 1: Create Directory Structure\n",
    "To create a directory use the `mkdir` command and follow it with the directory name. The below will create a directory in your current location called data."
   ]
  },
  {
   "cell_type": "code",
   "execution_count": null,
   "id": "8fe5bb01-abe6-4443-b507-2e340e563364",
   "metadata": {},
   "outputs": [],
   "source": [
    "mkdir data"
   ]
  },
  {
   "cell_type": "markdown",
   "id": "09b0cb61",
   "metadata": {},
   "source": [
    "To open the newly created folder the `cd` command can be used."
   ]
  },
  {
   "cell_type": "code",
   "execution_count": null,
   "id": "09e29bbf",
   "metadata": {},
   "outputs": [],
   "source": [
    "cd data"
   ]
  },
  {
   "cell_type": "markdown",
   "id": "01e7b199",
   "metadata": {},
   "source": [
    "To create folders within this directory use `mkdir`. `mkdir` can accept multiple arguments to create a number of folders at a time. For example to create two folders called weather and timestamps you could use the below."
   ]
  },
  {
   "cell_type": "code",
   "execution_count": null,
   "id": "fb3765a6",
   "metadata": {},
   "outputs": [],
   "source": [
    "mkdir weather timestamps"
   ]
  },
  {
   "cell_type": "markdown",
   "id": "c256e6c3",
   "metadata": {},
   "source": [
    "To check the creation of the folders you can use `ls` to show the contents of the current working directory."
   ]
  },
  {
   "cell_type": "code",
   "execution_count": null,
   "id": "ba968f98",
   "metadata": {},
   "outputs": [],
   "source": [
    "ls"
   ]
  },
  {
   "cell_type": "markdown",
   "id": "8c4713e0-bd9b-4f0c-aeae-29cac0425ed4",
   "metadata": {},
   "source": [
    "## Task 2: Timestamps\n",
    "The `date` command outputs the current date and time stamp. To output this information into a file you can use `>` then the file name for the date to be overwritten each time or `>>` then the file name to append the new data."
   ]
  },
  {
   "cell_type": "code",
   "execution_count": null,
   "id": "e8251428",
   "metadata": {},
   "outputs": [],
   "source": [
    "date >> now.txt"
   ]
  },
  {
   "cell_type": "markdown",
   "id": "f8241e16",
   "metadata": {},
   "source": [
    "To check the contents of the file the `more` command can be used."
   ]
  },
  {
   "cell_type": "code",
   "execution_count": null,
   "id": "b6b84eca",
   "metadata": {},
   "outputs": [],
   "source": [
    "more now.txt"
   ]
  },
  {
   "cell_type": "markdown",
   "id": "dab812aa-1262-4db3-b1df-e392c4b390b7",
   "metadata": {},
   "source": [
    "## Task 3: Formatting Timestamps\n",
    "For more information about a command `man` then the command name can be used."
   ]
  },
  {
   "cell_type": "code",
   "execution_count": null,
   "id": "608689e2",
   "metadata": {},
   "outputs": [],
   "source": [
    "man date"
   ]
  },
  {
   "cell_type": "markdown",
   "id": "bd50e9ca",
   "metadata": {},
   "source": [
    "To output the year `%Y` can be used for the full year or `%y` for the last two digits of the year. The month is retrieved with `%m` for a numerical output, or `%B` for the month in text or `%b` for the abbreviate name eg Jan. The day of the date is outputted with `%d`, the hour `%H`, the minutes `%M` and the seconds `%S`.  A quick way of getting the time is `%T`, this is automatically formatted with colons between the items.\n",
    "\n",
    "To output the timestamp in numbers as year month day_hours seconds the format for the date would be `%Y%m%d`. To output the time in hours, minutes and seconds without separators the format would be be `\"%h%M%S`. If you would like separators between the returns these are typed in the output eg `%H:%M` would give you a time in this format 12:15.\n"
   ]
  },
  {
   "cell_type": "code",
   "execution_count": null,
   "id": "59fe97c6",
   "metadata": {},
   "outputs": [],
   "source": [
    "date +%Y%m%d_%H%M%S "
   ]
  },
  {
   "cell_type": "markdown",
   "id": "ae9933b9",
   "metadata": {},
   "source": [
    "Gives an output that looks like 20241104_112942. To append this information to a file use `>>` and the file name."
   ]
  },
  {
   "cell_type": "code",
   "execution_count": null,
   "id": "0c322650",
   "metadata": {},
   "outputs": [],
   "source": [
    "date +%Y%m%d_%H%M%S >> formatted.txt"
   ]
  },
  {
   "cell_type": "markdown",
   "id": "ed4b800f-8cf5-4a4d-a380-c90501e705b9",
   "metadata": {},
   "source": [
    "## Task 4: Create Timestamped files\n",
    "Use the touch command to create an empty file with a name in the YYYYmmdd_HHMMSS.txt format. You can achieve this by embedding your date command in backticks ` into the touch command. You should no longer use redirection (>>) in this step."
   ]
  },
  {
   "cell_type": "markdown",
   "id": "0f9227f1-0c0d-4347-8879-0220f9381391",
   "metadata": {},
   "source": [
    "## Task 5:"
   ]
  },
  {
   "cell_type": "markdown",
   "id": "00a3279e-6c8f-4e9c-a73c-939d56b4d541",
   "metadata": {},
   "source": [
    "## Task 6:"
   ]
  },
  {
   "cell_type": "markdown",
   "id": "94f9d255-8980-4c75-998f-2b1e38dccd44",
   "metadata": {},
   "source": [
    "## Task 7:"
   ]
  }
 ],
 "metadata": {
  "kernelspec": {
   "display_name": "base",
   "language": "python",
   "name": "python3"
  },
  "language_info": {
   "codemirror_mode": {
    "name": "ipython",
    "version": 3
   },
   "file_extension": ".py",
   "mimetype": "text/x-python",
   "name": "python",
   "nbconvert_exporter": "python",
   "pygments_lexer": "ipython3",
   "version": "3.12.4"
  }
 },
 "nbformat": 4,
 "nbformat_minor": 5
}
