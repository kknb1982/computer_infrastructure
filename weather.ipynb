{
 "cells": [
  {
   "cell_type": "markdown",
   "id": "82538015-77d5-47a3-8480-5ff31aee8a19",
   "metadata": {},
   "source": [
    "# Computer Infrastructure Task Notebook"
   ]
  },
  {
   "cell_type": "markdown",
   "id": "88b9e687-654b-4937-83ea-7806bc74a37c",
   "metadata": {},
   "source": [
    "## Task 1: Create Directory Structure"
   ]
  },
  {
   "cell_type": "code",
   "execution_count": null,
   "id": "8fe5bb01-abe6-4443-b507-2e340e563364",
   "metadata": {},
   "outputs": [],
   "source": []
  },
  {
   "cell_type": "markdown",
   "id": "8c4713e0-bd9b-4f0c-aeae-29cac0425ed4",
   "metadata": {},
   "source": [
    "## Task 2:"
   ]
  },
  {
   "cell_type": "markdown",
   "id": "dab812aa-1262-4db3-b1df-e392c4b390b7",
   "metadata": {},
   "source": [
    "## Task 3:"
   ]
  },
  {
   "cell_type": "markdown",
   "id": "ed4b800f-8cf5-4a4d-a380-c90501e705b9",
   "metadata": {},
   "source": [
    "## Task 4:"
   ]
  },
  {
   "cell_type": "markdown",
   "id": "0f9227f1-0c0d-4347-8879-0220f9381391",
   "metadata": {},
   "source": [
    "## Task 5:"
   ]
  },
  {
   "cell_type": "markdown",
   "id": "00a3279e-6c8f-4e9c-a73c-939d56b4d541",
   "metadata": {},
   "source": [
    "## Task 6:"
   ]
  },
  {
   "cell_type": "markdown",
   "id": "94f9d255-8980-4c75-998f-2b1e38dccd44",
   "metadata": {},
   "source": [
    "## Task 7:"
   ]
  }
 ],
 "metadata": {
  "kernelspec": {
   "display_name": "",
   "name": ""
  },
  "language_info": {
   "name": ""
  }
 },
 "nbformat": 4,
 "nbformat_minor": 5
}
